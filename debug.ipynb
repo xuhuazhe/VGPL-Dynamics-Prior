{
 "cells": [
  {
   "cell_type": "code",
   "execution_count": null,
   "metadata": {},
   "outputs": [],
   "source": [
    "%matplotlib inline\n",
    "from matplotlib import cm\n",
    "import matplotlib.pyplot as plt\n",
    "import numpy as np\n",
    "\n",
    "reward_seqs = [0.0, 0.18974148, 0.1992907, 0.350656, 0.35882896, 0.39109656, \\\n",
    " 0.39486712, 0.39511558, 0.46375644, 0.47071177, 0.5655106, 0.70239437, \\\n",
    " 0.70598173, 0.72608304, 0.7819717, 0.79253316, 0.8283197, 0.9700098, \\\n",
    " 0.99150366, 1.0] \n",
    "fig, axs = plt.subplots(1, 3)\n",
    "fig.set_size_inches(24, 4.8)\n",
    "for i in range(3):\n",
    "    ax = axs[i]\n",
    "    ax.scatter(np.random.randint(5, size=20), \n",
    "        np.random.randint(5, size=20),\n",
    "        c=reward_seqs, cmap=cm.jet)\n",
    "    # ax.scatter(init_pose_seqs[idx[-best_k:], i, self.gripper_mid_pt, 0], \n",
    "    #     init_pose_seqs[idx[-best_k:], i, self.gripper_mid_pt, 2], marker='v', \n",
    "    #     c=reward_seqs[idx[-best_k:]])\n",
    "    # ax.scatter(init_pose_seqs[idx[:-best_k], i, self.gripper_mid_pt, 0], \n",
    "    #     init_pose_seqs[idx[:-best_k], i, self.gripper_mid_pt, 2], \n",
    "    #     c=reward_seqs[idx[:-best_k]])\n",
    "    # ax.scatter(selected[:, i, 0], selected[:, i, 2], c='r')\n",
    "    # ax.scatter(others[:, i, 0], others[:, i, 2], color=[0.0,0.3,0.7,0.3])\n",
    "\n",
    "    ax.set_title(f\"GRIP {i+1}\")\n",
    "    ax.set_xlabel('x coordinate')\n",
    "    ax.set_ylabel('z coordinate')\n",
    "\n",
    "color_map = cm.ScalarMappable(cmap=cm.jet)\n",
    "color_map.set_array(reward_seqs)\n",
    "plt.colorbar(color_map, ax=axs)\n",
    "\n",
    "# plt.savefig(path)\n",
    "plt.show()"
   ]
  },
  {
   "cell_type": "code",
   "execution_count": null,
   "metadata": {},
   "outputs": [],
   "source": []
  }
 ],
 "metadata": {
  "interpreter": {
   "hash": "949777d72b0d2535278d3dc13498b2535136f6dfe0678499012e853ee9abcab1"
  },
  "kernelspec": {
   "display_name": "Python 3.7.6 64-bit",
   "name": "python3"
  },
  "language_info": {
   "codemirror_mode": {
    "name": "ipython",
    "version": 3
   },
   "file_extension": ".py",
   "mimetype": "text/x-python",
   "name": "python",
   "nbconvert_exporter": "python",
   "pygments_lexer": "ipython3",
   "version": "3.7.6"
  },
  "orig_nbformat": 4
 },
 "nbformat": 4,
 "nbformat_minor": 2
}
