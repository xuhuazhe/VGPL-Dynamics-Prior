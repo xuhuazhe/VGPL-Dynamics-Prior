{
 "cells": [
  {
   "cell_type": "code",
   "execution_count": 1,
   "id": "68cf2883",
   "metadata": {},
   "outputs": [],
   "source": [
    "import os, sys"
   ]
  },
  {
   "cell_type": "code",
   "execution_count": 2,
   "id": "c28b905e",
   "metadata": {},
   "outputs": [],
   "source": [
    "parameters = [0, 0.001, 0.005, 0.01]\n",
    "for p in parameters:\n",
    "    os.system(f'sbatch ./batch/pinch_train.sh {str(p)}')"
   ]
  }
 ],
 "metadata": {
  "kernelspec": {
   "display_name": "Python 3",
   "language": "python",
   "name": "python3"
  },
  "language_info": {
   "codemirror_mode": {
    "name": "ipython",
    "version": 3
   },
   "file_extension": ".py",
   "mimetype": "text/x-python",
   "name": "python",
   "nbconvert_exporter": "python",
   "pygments_lexer": "ipython3",
   "version": "3.7.10"
  }
 },
 "nbformat": 4,
 "nbformat_minor": 5
}
