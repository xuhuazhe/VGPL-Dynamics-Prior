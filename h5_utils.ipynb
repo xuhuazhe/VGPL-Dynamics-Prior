{
 "cells": [
  {
   "cell_type": "code",
   "execution_count": null,
   "id": "0e9406b1",
   "metadata": {},
   "outputs": [],
   "source": [
    "import h5py\n",
    "import numpy as np\n",
    "import os, sys\n",
    "import open3d as o3d\n",
    "import cv2\n",
    "import matplotlib.pyplot as plt\n",
    "from PIL import Image\n",
    "import time\n",
    "\n",
    "import torch\n",
    "from itertools import product"
   ]
  },
  {
   "cell_type": "code",
   "execution_count": null,
   "id": "ce87c5be",
   "metadata": {},
   "outputs": [],
   "source": [
    "def store_data(data_names, data, path):\n",
    "    hf = h5py.File(path, 'w')\n",
    "    for i in range(len(data_names)):\n",
    "        hf.create_dataset(data_names[i], data=data[i])\n",
    "    hf.close()\n",
    "\n",
    "def load_data(data_names, path):\n",
    "    hf = h5py.File(path, 'r')\n",
    "    data = []\n",
    "    for i in range(len(data_names)):\n",
    "        d = np.array(hf.get(data_names[i]))\n",
    "        data.append(d)\n",
    "    hf.close()\n",
    "    return data"
   ]
  },
  {
   "cell_type": "code",
   "execution_count": null,
   "metadata": {},
   "outputs": [],
   "source": [
    "def p2g(x, size=64, p_mass=1.):\n",
    "    if x.dim() == 2:\n",
    "        x = x[None, :]\n",
    "    batch = x.shape[0]\n",
    "    grid_m = torch.zeros(batch, size * size * size, dtype=x.dtype, device=x.device)\n",
    "    inv_dx = size\n",
    "    # base = (self.x[f, p] * self.inv_dx - 0.5).cast(int)\n",
    "    # fx = self.x[f, p] * self.inv_dx - base.cast(self.dtype)\n",
    "    fx = x * inv_dx\n",
    "    base = (x * inv_dx - 0.5).long()\n",
    "    fx = fx - base.float()\n",
    "    w = [0.5 * (1.5 - fx) ** 2, 0.75 - (fx - 1) ** 2, 0.5 * (fx - 0.5) ** 2]\n",
    "    #for offset in ti.static(ti.grouped(self.stencil_range())):\n",
    "    #    weight = ti.cast(1.0, self.dtype)\n",
    "    #    for d in ti.static(range(self.dim)):\n",
    "    #        weight *= w[offset[d]][d]\n",
    "    #    self.grid_m[base + offset] += weight * self.p_mass\n",
    "    for i in range(3):\n",
    "        for j in range(3):\n",
    "            for k in range(3):\n",
    "                weight = w[i][..., 0] * w[j][..., 1] * w[k][..., 2] * p_mass\n",
    "                target = (base + torch.tensor(np.array([i, j, k]), dtype=torch.long, device='cuda:0')).clamp(0, size-1)\n",
    "                idx = (target[..., 0] * size + target[..., 1]) * size + target[..., 2]\n",
    "                grid_m.scatter_add_(1, idx, weight)\n",
    "    return grid_m.reshape(batch, size, size, size)"
   ]
  },
  {
   "cell_type": "code",
   "execution_count": null,
   "metadata": {},
   "outputs": [],
   "source": [
    "def compute_sdf(density, eps=1e-4, inf=1e10):\n",
    "    if density.dim() == 3:\n",
    "        density = density[None, :, :]\n",
    "    dx = 1./density.shape[1]\n",
    "    with torch.no_grad():\n",
    "        nearest_points = torch.stack(torch.meshgrid(\n",
    "            torch.arange(density.shape[1]),\n",
    "            torch.arange(density.shape[2]),\n",
    "            torch.arange(density.shape[3]),\n",
    "        ), axis=-1)[None, :].to(density.device).expand(density.shape[0], -1, -1, -1, -1) * dx\n",
    "        mesh_points = nearest_points.clone()\n",
    "\n",
    "        is_object = (density <= eps) * inf\n",
    "        sdf = is_object.clone()\n",
    "\n",
    "        for i in range(density.shape[1] * 2): # np.sqrt(1^2+1^2+1^2)\n",
    "            for x, y, z in product(range(3), range(3), range(3)):\n",
    "                if x + y + z == 0: continue\n",
    "                def get_slice(a):\n",
    "                    if a == 0: return slice(None), slice(None)\n",
    "                    if a == 1: return slice(0, -1), slice(1, None)\n",
    "                    return slice(1, None), slice(0, -1)\n",
    "                f1, t1 = get_slice(x)\n",
    "                f2, t2 = get_slice(y)\n",
    "                f3, t3 = get_slice(z)\n",
    "                fr = (slice(None), f1, f2, f3)\n",
    "                to = (slice(None), t1, t2, t3)\n",
    "                dist = ((mesh_points[to] - nearest_points[fr])**2).sum(axis=-1)**0.5\n",
    "                dist += (sdf[fr] >= inf) * inf\n",
    "                sdf_to = sdf[to]\n",
    "                mask = (dist < sdf_to).float()\n",
    "                sdf[to] = mask * dist + (1-mask) * sdf_to\n",
    "                mask = mask[..., None]\n",
    "                nearest_points[to] = (1-mask) * nearest_points[to] + mask * nearest_points[fr]\n",
    "        return sdf"
   ]
  },
  {
   "cell_type": "code",
   "execution_count": null,
   "metadata": {},
   "outputs": [],
   "source": [
    "# task_name = \"gripper\"\n",
    "rollout_dir = f\"/home/haochen/projects/deformable/VGPL-Dynamics-Prior/data/data_ngrip_new/train\"\n",
    "n_vid = 50\n",
    "n_frame = 89\n",
    "data_names = ['positions', 'shape_quats', 'scene_params']\n",
    "for i in range(n_vid):\n",
    "    for t in range(n_frame):\n",
    "        print(f\"vid {i} frame {t}\")\n",
    "        frame_path = os.path.join(rollout_dir, str(i).zfill(3), 'gt_' + str(t) + '.h5')\n",
    "        this_data = load_data(data_names, frame_path)\n",
    "        states = this_data[0]\n",
    "        states_tmp = states[:300]\n",
    "\n",
    "        gt_pos = torch.from_numpy(states_tmp).cuda()\n",
    "        grid = p2g(gt_pos)\n",
    "        sdf = compute_sdf(grid)\n",
    "\n",
    "        store_data(['sdf'], [sdf.cpu().numpy()], os.path.join(rollout_dir, str(i).zfill(3), 'sdf_gt_' + str(t) + '.h5'))\n"
   ]
  },
  {
   "cell_type": "code",
   "execution_count": null,
   "metadata": {},
   "outputs": [],
   "source": []
  }
 ],
 "metadata": {
  "interpreter": {
   "hash": "767d51c1340bd893661ea55ea3124f6de3c7a262a8b4abca0554b478b1e2ff90"
  },
  "kernelspec": {
   "display_name": "Python 3.6.9 64-bit",
   "name": "python3"
  },
  "language_info": {
   "codemirror_mode": {
    "name": "ipython",
    "version": 3
   },
   "file_extension": ".py",
   "mimetype": "text/x-python",
   "name": "python",
   "nbconvert_exporter": "python",
   "pygments_lexer": "ipython3",
   "version": "3.6.9"
  }
 },
 "nbformat": 4,
 "nbformat_minor": 5
}
